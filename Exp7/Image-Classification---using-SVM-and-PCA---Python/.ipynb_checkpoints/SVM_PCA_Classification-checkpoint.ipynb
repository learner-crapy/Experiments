{
 "cells": [
  {
   "cell_type": "markdown",
   "metadata": {
    "id": "dktqZLHUT0NS"
   },
   "source": [
    "# ***Image Classification Using SVM and PCA***"
   ]
  },
  {
   "cell_type": "markdown",
   "metadata": {
    "id": "upEY8wJfTvCW"
   },
   "source": [
    "```\n",
    "`KHUSHAL DAS - khushaldasparmar@gmail.com`\n",
    "```\n",
    "\n",
    "```\n",
    "`Assignment: Machine Learning`\n",
    "```\n",
    "\n",
    "```\n",
    "`Univerity of Management and Technology, Lahore`\n",
    "```\n",
    "\n"
   ]
  },
  {
   "cell_type": "markdown",
   "metadata": {
    "id": "0pFhzfkyVAhN"
   },
   "source": [
    "Flowers Dataset \n",
    "Link to Dataset used: https://drive.google.com/drive/u/1/folders/1pWsm5giojvKoG4QUIOn5hcn-EutNCGCT\n",
    "\n",
    "Training Images: 480  \n",
    "Testing Images: 120 \n",
    "\n",
    "1. Trained on SVM classifier on dataset after applying simple preprocessing techniques\n",
    "2. PCA overview and working on one image\n",
    "3. Applied PCA on whole Dataset and then trained on SVM"
   ]
  },
  {
   "cell_type": "markdown",
   "metadata": {
    "id": "X-fWQdqeT9wp"
   },
   "source": [
    "**Importing Libraries**"
   ]
  },
  {
   "cell_type": "code",
   "execution_count": null,
   "metadata": {
    "id": "NwurVdQ5XUez"
   },
   "outputs": [],
   "source": [
    "import numpy as np\n",
    "import pandas as pd\n",
    "import matplotlib.pyplot as plt\n",
    "%matplotlib inline\n",
    "import cv2\n",
    "import os\n",
    "from matplotlib import pyplot\n",
    "\n",
    "from matplotlib.image import imread\n",
    "\n",
    "from PIL import Image \n",
    "from PIL import ImageFilter\n",
    "from sklearn.svm import LinearSVC\n",
    "\n",
    "from sklearn.decomposition import PCA"
   ]
  },
  {
   "cell_type": "markdown",
   "metadata": {
    "id": "tpXRoPDrUBpB"
   },
   "source": [
    " **Ploting Few Images**"
   ]
  },
  {
   "cell_type": "code",
   "execution_count": null,
   "metadata": {
    "colab": {
     "base_uri": "https://localhost:8080/",
     "height": 269
    },
    "id": "Z-I3WoPqXi2y",
    "outputId": "5aa1f7ca-138f-43dd-bcbd-38a3d8afcaff"
   },
   "outputs": [],
   "source": [
    "folder = 'flowerDataset/train/'\n",
    "\n",
    "# plot images\n",
    "for i in range(8):\n",
    "\tpyplot.subplot(330 + 1 + i)\n",
    "\tfilename =folder+ 'rose_' + str(i) + '.jpg'  # define filename\n",
    "\timage = imread(filename) # load image pixels\n",
    "\tpyplot.imshow(image) # plot raw pixel data\n",
    "\n",
    "pyplot.show() # show the figure"
   ]
  },
  {
   "cell_type": "markdown",
   "metadata": {
    "id": "yPW_GpB9UQs6"
   },
   "source": [
    "**Loading Training and testing Images**"
   ]
  },
  {
   "cell_type": "code",
   "execution_count": null,
   "metadata": {
    "id": "2z9_XDV5lYuh"
   },
   "outputs": [],
   "source": [
    "TRAIN_DIR = 'flowerDataset/train/'\n",
    "train_images = [TRAIN_DIR+i for i in os.listdir(TRAIN_DIR)] # use this for training images\n",
    "\n",
    "\n",
    "TEST_DIR = 'flowerDataset/test/'\n",
    "test_images = [TEST_DIR+i for i in os.listdir(TEST_DIR)] # use this for test images\n",
    "\n",
    "train_images.remove('flowerDataset/train/.ipynb_checkpoints')\n",
    "#test_images.remove('flowerDataset/test/.ipynb_checkpoints')\n"
   ]
  },
  {
   "cell_type": "markdown",
   "metadata": {
    "id": "TT7M445IUYsg"
   },
   "source": [
    "**Variables Decalaration for Further use**"
   ]
  },
  {
   "cell_type": "code",
   "execution_count": null,
   "metadata": {
    "id": "HxdQViTiltaB"
   },
   "outputs": [],
   "source": [
    "#get labels\n",
    "predictedlabels=[]\n",
    "labels_test=[]\n",
    "labels_train=[]\n",
    "#images=[]"
   ]
  },
  {
   "cell_type": "markdown",
   "metadata": {
    "id": "PqliRyybUo0H"
   },
   "source": [
    "**Labeling Training Data**"
   ]
  },
  {
   "cell_type": "code",
   "execution_count": null,
   "metadata": {
    "id": "xJgMsHcql2vK"
   },
   "outputs": [],
   "source": [
    "def train():      \n",
    "    labels_train=[]\n",
    "    for i in os.listdir(TRAIN_DIR):\n",
    "\n",
    "        if 'rose' in i:\n",
    "            labels_train.append(1)\n",
    "            \n",
    "        elif 'sunflower' in i:\n",
    "            labels_train.append(0)\n",
    "    \n",
    "    return labels_train"
   ]
  },
  {
   "cell_type": "markdown",
   "metadata": {
    "id": "R7DDcPvQUr_H"
   },
   "source": [
    "**Labeling Training Data**"
   ]
  },
  {
   "cell_type": "code",
   "execution_count": null,
   "metadata": {
    "id": "utFtqEHW2jB2"
   },
   "outputs": [],
   "source": [
    "def test():      \n",
    "\n",
    "    labels_test=[]\n",
    "    for i in os.listdir(TEST_DIR):\n",
    "\n",
    "        if 'rose' in i:\n",
    "            \n",
    "            labels_test.append(1)\n",
    "\n",
    "        elif 'sunflower' in i:\n",
    "            labels_test.append(0)\n",
    "\n",
    "    return labels_test"
   ]
  },
  {
   "cell_type": "markdown",
   "metadata": {
    "id": "P07EU8l6UvZW"
   },
   "source": [
    "**Verifying Predicted Lables and Already labeled testing images to calculate accuracy**"
   ]
  },
  {
   "cell_type": "code",
   "execution_count": null,
   "metadata": {
    "id": "cGnMmCuEl7Mb"
   },
   "outputs": [],
   "source": [
    "def getResults(predictedlabels, labels_test):    #outputs accuracy\n",
    "\n",
    "    total=0\n",
    "    newpredict=[]\n",
    "    for r in range(0,len(labels_test)):\n",
    "   \n",
    "        if float(predictedlabels[r])>0.5:\n",
    "            newpredict.append(1)\n",
    "        else:\n",
    "            newpredict.append(0)\n",
    "            \n",
    "       \n",
    "        if newpredict[r] == labels_test[r]:\n",
    "            total+=1\n",
    "         \n",
    "    print(\"Accuracy:\",total,\"/\",len(labels_test),\"* 100 =\",\"{0:.3f}\".format(total/len(labels_test)*100),\"%\")"
   ]
  },
  {
   "cell_type": "markdown",
   "metadata": {
    "id": "ccRBkKiNqMK2"
   },
   "source": [
    "**PRocessing Dataset**"
   ]
  },
  {
   "cell_type": "code",
   "execution_count": null,
   "metadata": {
    "id": "g1BVjqORqLwf"
   },
   "outputs": [],
   "source": [
    "def processing():\n",
    "\n",
    "  results_1=[]\n",
    "\n",
    "  pix_val=0\n",
    "  \n",
    "  for i in train_images:\n",
    "      pil_im = Image.open(i).convert('L')\n",
    "\n",
    "      size=64,64\n",
    "\n",
    "      #Some images captured by a camera and fed to our AI algorithm vary in size, \n",
    "      #therefore, we should establish a base size for all images fed into our AI algorithms.\n",
    "      pil_im = pil_im.resize(size, Image.ANTIALIAS)\n",
    "      \n",
    "      # we use GaussianBlur to Remove noise\n",
    "      pil_im = pil_im.filter(ImageFilter.GaussianBlur(255))\n",
    "\n",
    "      pix_val = pil_im.histogram() \n",
    "      \n",
    "      results_1.append(pix_val)\n",
    "\n",
    "  return results_1\n"
   ]
  },
  {
   "cell_type": "markdown",
   "metadata": {
    "id": "Zw1x79vGU49O"
   },
   "source": [
    "**SVM Function for data training**"
   ]
  },
  {
   "cell_type": "code",
   "execution_count": null,
   "metadata": {
    "id": "SAj6R1gSl8PA"
   },
   "outputs": [],
   "source": [
    "def svm(y):            \n",
    "\n",
    "    results_1=[]\n",
    "    clf = LinearSVC()\n",
    "    \n",
    "    #data processing before sending to training\n",
    "    #reults_1 = processing()\n",
    "\n",
    "    pix_val=0\n",
    "  \n",
    "    for i in train_images:\n",
    "      pil_im = Image.open(i).convert('L')\n",
    "\n",
    "      size=64,64\n",
    "\n",
    "      #Some images captured by a camera and fed to our AI algorithm vary in size, \n",
    "      #therefore, we should establish a base size for all images fed into our AI algorithms.\n",
    "      pil_im = pil_im.resize(size, Image.ANTIALIAS)\n",
    "      \n",
    "      # we use GaussianBlur to Remove noise\n",
    "      pil_im = pil_im.filter(ImageFilter.GaussianBlur(255))\n",
    "\n",
    "      pix_val = pil_im.histogram() \n",
    "      \n",
    "      results_1.append(pix_val)\n",
    "\n",
    "    clf = clf.fit(results_1,y)\n",
    "\n",
    "    return clf"
   ]
  },
  {
   "cell_type": "code",
   "execution_count": null,
   "metadata": {
    "id": "ormm_I7tIfkH"
   },
   "outputs": [],
   "source": [
    "def svm_AfterPCA(y):            \n",
    "\n",
    "    results_1=[]\n",
    "    clf = LinearSVC()\n",
    "    \n",
    "    #data processing before sending to training\n",
    "    #reults_1 = processing()\n",
    "\n",
    "    pix_val=0\n",
    "  \n",
    "    for i in train_images:\n",
    "      pil_im1=Image.fromarray(i,\"RGB\")\n",
    "     # pil_im1 = i\n",
    "\n",
    "      size=64,64\n",
    "\n",
    "      #Some images captured by a camera and fed to our AI algorithm vary in size, \n",
    "      #therefore, we should establish a base size for all images fed into our AI algorithms.\n",
    "      pil_im1 = pil_im1.resize(size, Image.ANTIALIAS)\n",
    "      \n",
    "      # we use GaussianBlur to Remove noise\n",
    "      pil_im1 = pil_im1.filter(ImageFilter.GaussianBlur(255))\n",
    "\n",
    "      pix_val = pil_im1.histogram() \n",
    "      \n",
    "      results_1.append(pix_val)\n",
    "\n",
    "    clf = clf.fit(results_1,y)\n",
    "\n",
    "    return clf"
   ]
  },
  {
   "cell_type": "markdown",
   "metadata": {
    "id": "GegGKSqnU-k-"
   },
   "source": [
    "**Getting training images labeled and storing in *y* variable**"
   ]
  },
  {
   "cell_type": "code",
   "execution_count": null,
   "metadata": {
    "colab": {
     "base_uri": "https://localhost:8080/"
    },
    "id": "iyTqDHzwom3A",
    "outputId": "21c03f23-8c6e-4ec2-dca8-13e36d9a11dd"
   },
   "outputs": [],
   "source": [
    "y = train()   #get correct labels\n",
    "\n",
    "print (len(y) , \"   \",len(train_images))\n"
   ]
  },
  {
   "cell_type": "markdown",
   "metadata": {
    "id": "Lk0tcGTaVNS3"
   },
   "source": [
    "**Getting testing images labled and storing in labels_ variable**"
   ]
  },
  {
   "cell_type": "code",
   "execution_count": null,
   "metadata": {
    "colab": {
     "base_uri": "https://localhost:8080/"
    },
    "id": "MOzEsAQTon8j",
    "outputId": "4436e52f-69d2-43ca-e5d5-ac2cc343d8a8"
   },
   "outputs": [],
   "source": [
    "y = np.array(y).reshape(-1,1)\n",
    "\n",
    "clf = svm(y)   #get trained svm "
   ]
  },
  {
   "cell_type": "markdown",
   "metadata": {
    "id": "-Sqg5jdoVTEV"
   },
   "source": [
    "**Training labled training images using SVM**"
   ]
  },
  {
   "cell_type": "code",
   "execution_count": null,
   "metadata": {
    "colab": {
     "base_uri": "https://localhost:8080/"
    },
    "id": "MaAwwwhn2XEh",
    "outputId": "8fb98e2d-2aa6-4e18-c6af-86851330d49e"
   },
   "outputs": [],
   "source": [
    "lables_ = test()   #get correct labels\n",
    "len(lables_)"
   ]
  },
  {
   "cell_type": "markdown",
   "metadata": {
    "id": "8Prud4QNViE1"
   },
   "source": [
    "**Predicting testing images using trained model**"
   ]
  },
  {
   "cell_type": "code",
   "execution_count": null,
   "metadata": {
    "id": "XdgTuefIopAj"
   },
   "outputs": [],
   "source": [
    "results_=[]\n",
    "for i in test_images:\n",
    "  pil_im = Image.open(i).convert('L')\n",
    "  size=64,64\n",
    "  \n",
    "  pil_im = pil_im.resize(size, Image.ANTIALIAS)\n",
    "  pil_im = pil_im.filter(ImageFilter.GaussianBlur(255))\n",
    "  pix_val = pil_im.histogram() \n",
    "    \n",
    "  results_.append(pix_val)\n",
    "\n",
    "predictedlabels = clf.predict(X=results_)\n"
   ]
  },
  {
   "cell_type": "markdown",
   "metadata": {
    "id": "HBz_oJtbVuUL"
   },
   "source": [
    "**Finding Accuracy**"
   ]
  },
  {
   "cell_type": "code",
   "execution_count": null,
   "metadata": {
    "colab": {
     "base_uri": "https://localhost:8080/"
    },
    "id": "qGfFAjDM1dDO",
    "outputId": "054d836f-b4a6-4874-d0ef-b895a71de552"
   },
   "outputs": [],
   "source": [
    "results_ = getResults(predictedlabels, labels_test)"
   ]
  },
  {
   "cell_type": "markdown",
   "metadata": {
    "id": "Gsqu1CHsVx3D"
   },
   "source": [
    "# **PCA on image Data**"
   ]
  },
  {
   "cell_type": "code",
   "execution_count": null,
   "metadata": {
    "colab": {
     "base_uri": "https://localhost:8080/",
     "height": 286
    },
    "id": "Qyu7qLvwMrYE",
    "outputId": "10f41018-f6b4-4a01-fd5d-d1126731a666"
   },
   "outputs": [],
   "source": [
    "img = cv2.imread('flowerDataset/test/rose_50.jpg') #you can use any image you want.\n",
    "plt.imshow(img)"
   ]
  },
  {
   "cell_type": "code",
   "execution_count": null,
   "metadata": {
    "id": "G6w1iL4rO1wx"
   },
   "outputs": [],
   "source": [
    "# Splitting the image in R,G,B arrays.\n",
    "blue,green,red = cv2.split(img) "
   ]
  },
  {
   "cell_type": "code",
   "execution_count": null,
   "metadata": {
    "id": "iEsucynrPCw-"
   },
   "outputs": [],
   "source": [
    "def compressImage(val):\n",
    "\n",
    "  #initialize PCA with first 20 principal components\n",
    "  pca = PCA(val)\n",
    "  \n",
    "  #Applying to red channel and then applying inverse transform to transformed array.\n",
    "  red_transformed = pca.fit_transform(red)\n",
    "  red_inverted = pca.inverse_transform(red_transformed)\n",
    "  \n",
    "  #Applying to Green channel and then applying inverse transform to transformed array.\n",
    "  green_transformed = pca.fit_transform(green)\n",
    "  green_inverted = pca.inverse_transform(green_transformed)\n",
    "  \n",
    "  #Applying to Blue channel and then applying inverse transform to transformed array.\n",
    "  blue_transformed = pca.fit_transform(blue)\n",
    "  blue_inverted = pca.inverse_transform(blue_transformed)\n",
    "  img_compressed = (np.dstack((red_inverted, red_inverted, red_inverted))).astype(np.uint8)\n",
    "\n",
    "  #print(img_compressed)\n",
    "\n",
    "  return img_compressed"
   ]
  },
  {
   "cell_type": "code",
   "execution_count": null,
   "metadata": {
    "colab": {
     "base_uri": "https://localhost:8080/",
     "height": 286
    },
    "id": "vJ0EICDHPL6d",
    "outputId": "45525989-8e8c-47b0-f7cf-698b7083434c"
   },
   "outputs": [],
   "source": [
    "compressed1 = compressImage(150)\n",
    "\n",
    "#viewing the compressed image\n",
    "plt.imshow(compressed1)"
   ]
  },
  {
   "cell_type": "code",
   "execution_count": null,
   "metadata": {
    "colab": {
     "base_uri": "https://localhost:8080/",
     "height": 286
    },
    "id": "CBZ177o2nWIm",
    "outputId": "51a0c49b-e077-412d-aec8-b350e52f01b7"
   },
   "outputs": [],
   "source": [
    "compressed2 = compressImage(20)\n",
    "\n",
    "#viewing the compressed image\n",
    "plt.imshow(compressed2)"
   ]
  },
  {
   "cell_type": "code",
   "execution_count": null,
   "metadata": {
    "colab": {
     "base_uri": "https://localhost:8080/",
     "height": 286
    },
    "id": "bJpln6Ein3fq",
    "outputId": "35084fa8-596a-4935-ae83-8d5e11193760"
   },
   "outputs": [],
   "source": [
    "compressed3 = compressImage(300)\n",
    "\n",
    "#viewing the compressed image\n",
    "plt.imshow(compressed3)"
   ]
  },
  {
   "cell_type": "markdown",
   "metadata": {
    "id": "4UzQAfxVIR1R"
   },
   "source": [
    "# **Training Data after applying PCA on all images**"
   ]
  },
  {
   "cell_type": "code",
   "execution_count": null,
   "metadata": {
    "id": "BvGPz1LqIX1O"
   },
   "outputs": [],
   "source": [
    "def PCAonAllImages():\n",
    "  i=0\n",
    "  \n",
    "  for img_ in train_images:\n",
    "    img2 = cv2.imread(img_) #you can use any image you want.\n",
    "    blue,green,red = cv2.split(img2)\n",
    "    train_images[i] = compressImage(150)\n",
    "    i=i+1\n"
   ]
  },
  {
   "cell_type": "code",
   "execution_count": null,
   "metadata": {
    "id": "JGnNjxzYQEZx"
   },
   "outputs": [],
   "source": [
    "def PCAonTestImages():\n",
    "  i=0\n",
    "  \n",
    "  for img_ in test_images:\n",
    "    img2 = cv2.imread(img_) #you can use any image you want.\n",
    "    blue,green,red = cv2.split(img2)\n",
    "    test_images[i] = compressImage(150)\n",
    "    i=i+1\n"
   ]
  },
  {
   "cell_type": "code",
   "execution_count": null,
   "metadata": {
    "id": "R74zg5dlKP0A"
   },
   "outputs": [],
   "source": [
    "PCAonAllImages()\n"
   ]
  },
  {
   "cell_type": "code",
   "execution_count": null,
   "metadata": {
    "id": "JG4Br1OJP9xo"
   },
   "outputs": [],
   "source": [
    "PCAonTestImages()"
   ]
  },
  {
   "cell_type": "code",
   "execution_count": null,
   "metadata": {
    "colab": {
     "base_uri": "https://localhost:8080/"
    },
    "id": "GqkTOo7SQpUo",
    "outputId": "ec897e39-2e7f-4688-9aeb-0c894a5a3e4f"
   },
   "outputs": [],
   "source": [
    "clf = svm_AfterPCA(y) "
   ]
  },
  {
   "cell_type": "code",
   "execution_count": null,
   "metadata": {
    "id": "tC0HSqGzQqBU"
   },
   "outputs": [],
   "source": [
    "labels_= test()"
   ]
  },
  {
   "cell_type": "code",
   "execution_count": null,
   "metadata": {
    "id": "fQdswSknQwWA"
   },
   "outputs": [],
   "source": [
    "results_=[]\n",
    "for i in test_images:\n",
    "  pil_im = Image.fromarray(i,\"RGB\")\n",
    "  size=64,64\n",
    "  \n",
    "  pil_im = pil_im.resize(size, Image.ANTIALIAS)\n",
    "  pil_im = pil_im.filter(ImageFilter.GaussianBlur(255))\n",
    "  pix_val = pil_im.histogram() \n",
    "    \n",
    "  results_.append(pix_val)\n",
    "\n",
    "predictedlabels = clf.predict(X=results_)\n"
   ]
  },
  {
   "cell_type": "code",
   "execution_count": null,
   "metadata": {
    "colab": {
     "base_uri": "https://localhost:8080/"
    },
    "id": "SainXcwaQ1iT",
    "outputId": "e8e6b787-7e6e-478f-a167-76d17eed93b0"
   },
   "outputs": [],
   "source": [
    "results_ = getResults(predictedlabels, labels_test)"
   ]
  }
 ],
 "metadata": {
  "colab": {
   "collapsed_sections": [
    "dktqZLHUT0NS",
    "Gsqu1CHsVx3D",
    "4UzQAfxVIR1R"
   ],
   "name": "ImageClassification_KhushalDas.ipynb",
   "provenance": []
  },
  "kernelspec": {
   "display_name": "Python 3",
   "language": "python",
   "name": "python3"
  },
  "language_info": {
   "name": "python"
  }
 },
 "nbformat": 4,
 "nbformat_minor": 1
}
